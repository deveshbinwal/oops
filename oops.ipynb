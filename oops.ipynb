{
 "cells": [
  {
   "cell_type": "markdown",
   "id": "f6a28c97-b818-4c55-9961-061e333ee938",
   "metadata": {},
   "source": [
    "Q1. Explain Class and Object with respect to Object-Oriented Programming. Give a suitable example."
   ]
  },
  {
   "cell_type": "markdown",
   "id": "48cb4c0a-b0b7-4087-aa34-befb32fe56ef",
   "metadata": {},
   "source": [
    "In object-oriented programming (OOP), a class is a blueprint or template that defines the structure and behavior of objects. It serves as a blueprint for creating objects, which are instances of that class. The class encapsulates data (attributes) and functionality (methods) related to a particular concept or entity.\n",
    "\n",
    "An object, on the other hand, is an instance of a class. It represents a specific occurrence or occurrence of that class. When you create an object, you are essentially creating a unique copy of the class with its own set of attribute values.\n",
    "\n",
    "Let's take an example to understand this concept better. Suppose we have a class called \"Car\" that represents cars in a car manufacturing system. The Car class would define the attributes and methods associated with a car. The attributes could include properties such as \"make,\" \"model,\" \"color,\" and \"price,\" while the methods could include behaviors like \"start,\" \"accelerate,\" and \"stop.\""
   ]
  },
  {
   "cell_type": "code",
   "execution_count": 1,
   "id": "7367fd6a-e276-4d30-af33-1bda3b699ec7",
   "metadata": {},
   "outputs": [],
   "source": [
    "class Car:\n",
    "    def __init__(self, make, model, color, price):\n",
    "        self.make = make\n",
    "        self.model = model\n",
    "        self.color = color\n",
    "        self.price = price\n",
    "\n",
    "    def start(self):\n",
    "        print(\"The car has started.\")\n",
    "\n",
    "    def accelerate(self):\n",
    "        print(\"The car is accelerating.\")\n",
    "\n",
    "    def stop(self):\n",
    "        print(\"The car has stopped.\")\n"
   ]
  },
  {
   "cell_type": "code",
   "execution_count": 7,
   "id": "3a1b8865-7cf2-478d-b502-1c62ce600498",
   "metadata": {},
   "outputs": [],
   "source": [
    "car1 = Car(\"Toyota\", \"Camry\", \"Blue\", 25000)\n",
    "car2 = Car(\"Ford\", \"Mustang\", \"Red\", 40000)\n"
   ]
  },
  {
   "cell_type": "code",
   "execution_count": 8,
   "id": "267c4f01-e20a-4bd7-84fa-253052c9ef75",
   "metadata": {},
   "outputs": [
    {
     "data": {
      "text/plain": [
       "'Camry'"
      ]
     },
     "execution_count": 8,
     "metadata": {},
     "output_type": "execute_result"
    }
   ],
   "source": [
    "car1.model"
   ]
  },
  {
   "cell_type": "code",
   "execution_count": 9,
   "id": "8608d74d-45d9-4387-b7d0-4157561e7fa7",
   "metadata": {},
   "outputs": [
    {
     "name": "stdout",
     "output_type": "stream",
     "text": [
      "The car is accelerating.\n"
     ]
    }
   ],
   "source": [
    "car1.accelerate()"
   ]
  },
  {
   "cell_type": "code",
   "execution_count": null,
   "id": "082b799d-b582-4fd8-a02c-9271515101c8",
   "metadata": {},
   "outputs": [],
   "source": []
  },
  {
   "cell_type": "markdown",
   "id": "80d16c56-a648-4c14-88c9-089db0e1cf85",
   "metadata": {},
   "source": [
    "Q2. Name the four pillars of OOPs."
   ]
  },
  {
   "cell_type": "markdown",
   "id": "4e681d48-9f14-4220-9f7b-743978118d53",
   "metadata": {},
   "source": [
    "The four pillars of object-oriented programming (OOP) are:\n",
    "\n",
    "1. Encapsulation: Encapsulation refers to the bundling of data and methods (functions) that operate on that data into a single unit called a class. It provides data hiding and protects the internal state of an object from outside interference. Encapsulation helps maintain the integrity of the data and allows for better control and organization of code.\n",
    "\n",
    "2. Inheritance: Inheritance allows the creation of new classes (derived classes) based on existing classes (base or parent classes). The derived classes inherit the properties (attributes and methods) of the base class, which promotes code reuse and the creation of a hierarchical structure. Inheritance enables the implementation of a \"is-a\" relationship, where a derived class inherits the characteristics of its parent class.\n",
    "\n",
    "3. Polymorphism: Polymorphism means the ability of objects of different classes to respond to the same message (method call) in different ways. It allows the use of a single interface (method name) to represent different data types or objects. Polymorphism helps in achieving code flexibility, extensibility, and modularity, as it allows the programmer to write generic code that can handle different object types.\n",
    "\n",
    "4. Abstraction: Abstraction involves the concept of creating simplified representations of complex real-world entities. It focuses on defining the essential features and behavior of an object while hiding the unnecessary details. Abstraction allows the creation of abstract classes and interfaces that provide a blueprint for derived classes to implement. It helps in managing complexity, improving code maintainability, and promoting code reusability.\n",
    "\n",
    "These four pillars of OOP (Encapsulation, Inheritance, Polymorphism, and Abstraction) provide a solid foundation for building modular, reusable, and maintainable software systems."
   ]
  },
  {
   "cell_type": "code",
   "execution_count": null,
   "id": "42b02e0d-5b2f-443b-ba4d-4f15e678cb71",
   "metadata": {},
   "outputs": [],
   "source": []
  },
  {
   "cell_type": "markdown",
   "id": "6d5ab147-10df-4c27-97df-b3b9e08d418c",
   "metadata": {},
   "source": [
    "Q3. Explain why the __init__() function is used. Give a suitable example."
   ]
  },
  {
   "cell_type": "markdown",
   "id": "10dffaf2-577f-4ac1-8b0e-124eda6504ae",
   "metadata": {},
   "source": [
    "The __init__() function is a special method in Python that is used to initialize and set up an object's initial state when it is created from a class. It is also known as the constructor method.\n",
    "\n",
    "The __init__() method is called automatically when an object is instantiated (created) from a class. It allows you to define and assign values to the attributes (data members) of the object. By providing initial values to the object's attributes, the __init__() method ensures that the object is in a valid and usable state right after creation."
   ]
  },
  {
   "cell_type": "code",
   "execution_count": 10,
   "id": "33d81af2-2932-49f2-9790-1755aa1009b4",
   "metadata": {},
   "outputs": [
    {
     "name": "stdout",
     "output_type": "stream",
     "text": [
      "Name: John, Age: 25\n"
     ]
    }
   ],
   "source": [
    "class Person:\n",
    "    def __init__(self, name, age):\n",
    "        self.name = name\n",
    "        self.age = age\n",
    "\n",
    "    def display_info(self):\n",
    "        print(f\"Name: {self.name}, Age: {self.age}\")\n",
    "\n",
    "\n",
    "# Create an instance of the Person class\n",
    "person1 = Person(\"John\", 25)\n",
    "\n",
    "# Call the display_info() method to print the person's information\n",
    "person1.display_info()\n"
   ]
  },
  {
   "cell_type": "code",
   "execution_count": null,
   "id": "fd8473d8-4b0b-4496-8165-bbc466634f4e",
   "metadata": {},
   "outputs": [],
   "source": []
  },
  {
   "cell_type": "markdown",
   "id": "c1b7b84f-de51-4d3a-81b2-c33c9bc2c491",
   "metadata": {},
   "source": [
    "Q4. Why self is used in OOPs?"
   ]
  },
  {
   "cell_type": "markdown",
   "id": "70280736-ef0f-4846-8e78-158cff5e19cb",
   "metadata": {},
   "source": [
    "In object-oriented programming (OOP), the self keyword is used as a reference to the instance of a class. It is a convention in Python (though the name can be different in other programming languages) to use self as the first parameter in method definitions within a class.\n",
    "\n",
    "When a method is called on an object, the self parameter represents that particular instance of the class. It allows access to the object's attributes and methods within the class definition. By using self, you can differentiate between the attributes and methods of the current instance and those defined at the class level."
   ]
  },
  {
   "cell_type": "code",
   "execution_count": null,
   "id": "00ee09af-8041-41d6-af8d-a7fb4d032b18",
   "metadata": {},
   "outputs": [],
   "source": []
  },
  {
   "cell_type": "markdown",
   "id": "5cfefe62-556b-41a5-9e77-c2358a4d1626",
   "metadata": {},
   "source": [
    "Q5. What is inheritance? Give an example for each type of inheritance."
   ]
  },
  {
   "cell_type": "markdown",
   "id": "5df991bd-148b-462b-a0bf-5955be26bb8d",
   "metadata": {},
   "source": [
    "Inheritance is a fundamental concept in object-oriented programming (OOP) that allows classes to inherit attributes and methods from other classes. It enables code reuse, promotes modularity, and establishes a hierarchical relationship between classes.\n",
    "\n",
    "Here are examples for each type of inheritance:"
   ]
  },
  {
   "cell_type": "markdown",
   "id": "8993232e-4e69-4924-ae36-df389e750c9a",
   "metadata": {},
   "source": [
    "1.Single Inheritance:\n",
    "Single inheritance occurs when a derived class inherits from a single base class."
   ]
  },
  {
   "cell_type": "code",
   "execution_count": 11,
   "id": "982a2aee-1732-461d-9596-2eef75e71248",
   "metadata": {},
   "outputs": [],
   "source": [
    "class Animal:\n",
    "    def breathe(self):\n",
    "        print(\"Animal is breathing.\")\n",
    "\n",
    "class Dog(Animal):\n",
    "    def bark(self):\n",
    "        print(\"Dog is barking.\")\n"
   ]
  },
  {
   "cell_type": "code",
   "execution_count": 13,
   "id": "3c431ece-9b8e-43a1-99af-395a6f6cf4c7",
   "metadata": {},
   "outputs": [],
   "source": [
    "inher1=Dog()"
   ]
  },
  {
   "cell_type": "code",
   "execution_count": 15,
   "id": "4529c771-67f6-4b5d-ba9a-d7b23e56fbc8",
   "metadata": {},
   "outputs": [
    {
     "name": "stdout",
     "output_type": "stream",
     "text": [
      "Animal is breathing.\n"
     ]
    }
   ],
   "source": [
    "inher1.breathe()"
   ]
  },
  {
   "cell_type": "code",
   "execution_count": 16,
   "id": "1c5fa9b2-bab7-4f73-a366-45da417f7a20",
   "metadata": {},
   "outputs": [
    {
     "name": "stdout",
     "output_type": "stream",
     "text": [
      "Dog is barking.\n"
     ]
    }
   ],
   "source": [
    "inher1.bark()"
   ]
  },
  {
   "cell_type": "markdown",
   "id": "98ab6b22-d302-4be2-ba80-02d03eb34831",
   "metadata": {},
   "source": [
    "2. Multiple Inheritance:\n",
    "Multiple inheritance occurs when a derived class inherits from two or more base classes."
   ]
  },
  {
   "cell_type": "code",
   "execution_count": 17,
   "id": "07f5eb83-f0b6-47e6-a2d5-aa1f5294f8c5",
   "metadata": {},
   "outputs": [],
   "source": [
    "class A:\n",
    "    def methodA(self):\n",
    "        print(\"Method A\")\n",
    "\n",
    "class B:\n",
    "    def methodB(self):\n",
    "        print(\"Method B\")\n",
    "\n",
    "class C(A, B):\n",
    "    def methodC(self):\n",
    "        print(\"Method C\")\n",
    "\n",
    "        "
   ]
  },
  {
   "cell_type": "code",
   "execution_count": 19,
   "id": "373b207e-1a9d-4646-8b6d-f7a8396b1d2b",
   "metadata": {},
   "outputs": [],
   "source": [
    "inher2=C()"
   ]
  },
  {
   "cell_type": "code",
   "execution_count": 20,
   "id": "87cc9907-05af-4a9e-be0c-9d98d8816625",
   "metadata": {},
   "outputs": [
    {
     "name": "stdout",
     "output_type": "stream",
     "text": [
      "Method A\n"
     ]
    }
   ],
   "source": [
    "inher2.methodA()"
   ]
  },
  {
   "cell_type": "code",
   "execution_count": 21,
   "id": "4884102f-3367-41bd-82e7-8481d4bbbcb9",
   "metadata": {},
   "outputs": [
    {
     "name": "stdout",
     "output_type": "stream",
     "text": [
      "Method B\n"
     ]
    }
   ],
   "source": [
    "inher2.methodB()"
   ]
  },
  {
   "cell_type": "code",
   "execution_count": 22,
   "id": "9d4630fa-4268-467d-872c-08043056ad20",
   "metadata": {},
   "outputs": [
    {
     "name": "stdout",
     "output_type": "stream",
     "text": [
      "Method C\n"
     ]
    }
   ],
   "source": [
    "inher2.methodC()"
   ]
  },
  {
   "cell_type": "markdown",
   "id": "228bc3b6-c49f-408e-969e-d56d8556861d",
   "metadata": {},
   "source": [
    "Multilevel Inheritance:\n",
    "Multilevel inheritance occurs when a derived class is derived from another derived class."
   ]
  },
  {
   "cell_type": "code",
   "execution_count": 23,
   "id": "0f134f7d-1184-485d-bc5f-db4daef08592",
   "metadata": {},
   "outputs": [],
   "source": [
    "class Vehicle:\n",
    "    def start(self):\n",
    "        print(\"Vehicle started.\")\n",
    "\n",
    "class Car(Vehicle):\n",
    "    def drive(self):\n",
    "        print(\"Car is being driven.\")\n",
    "\n",
    "class SportsCar(Car):\n",
    "    def accelerate(self):\n",
    "        print(\"Sports car is accelerating.\")\n"
   ]
  },
  {
   "cell_type": "code",
   "execution_count": 24,
   "id": "01b1dc07-fb8b-4828-8498-5757772734c9",
   "metadata": {},
   "outputs": [],
   "source": [
    "mul=SportsCar()"
   ]
  },
  {
   "cell_type": "code",
   "execution_count": 25,
   "id": "6a8b6425-bc13-4833-9652-511a93fefb58",
   "metadata": {},
   "outputs": [
    {
     "name": "stdout",
     "output_type": "stream",
     "text": [
      "Sports car is accelerating.\n"
     ]
    }
   ],
   "source": [
    "mul.accelerate()"
   ]
  },
  {
   "cell_type": "code",
   "execution_count": 27,
   "id": "7acffe90-1731-47cd-8056-97c0a78b3edd",
   "metadata": {},
   "outputs": [
    {
     "name": "stdout",
     "output_type": "stream",
     "text": [
      "Car is being driven.\n"
     ]
    }
   ],
   "source": [
    "mul.drive()"
   ]
  },
  {
   "cell_type": "code",
   "execution_count": 28,
   "id": "cd788312-48e6-4499-a6e5-d786e1cb3111",
   "metadata": {},
   "outputs": [
    {
     "name": "stdout",
     "output_type": "stream",
     "text": [
      "Vehicle started.\n"
     ]
    }
   ],
   "source": [
    "mul.start()"
   ]
  },
  {
   "cell_type": "code",
   "execution_count": null,
   "id": "7e4bcd29-5d6a-402c-a963-3fba57f0cf68",
   "metadata": {},
   "outputs": [],
   "source": []
  }
 ],
 "metadata": {
  "kernelspec": {
   "display_name": "Python 3 (ipykernel)",
   "language": "python",
   "name": "python3"
  },
  "language_info": {
   "codemirror_mode": {
    "name": "ipython",
    "version": 3
   },
   "file_extension": ".py",
   "mimetype": "text/x-python",
   "name": "python",
   "nbconvert_exporter": "python",
   "pygments_lexer": "ipython3",
   "version": "3.10.8"
  }
 },
 "nbformat": 4,
 "nbformat_minor": 5
}
